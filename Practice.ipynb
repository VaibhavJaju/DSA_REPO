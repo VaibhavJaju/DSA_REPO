{
 "cells": [
  {
   "cell_type": "code",
   "execution_count": 9,
   "id": "d44c838e-0ffa-47b9-9927-5637648d93b9",
   "metadata": {},
   "outputs": [
    {
     "name": "stdout",
     "output_type": "stream",
     "text": [
      "[1, 3, 12, 0, 0]\n",
      "[0]\n"
     ]
    }
   ],
   "source": [
    "def moveZeroes(nums):\n",
    "    zero_index = 0\n",
    "\n",
    "    # Move all non-zero elements to the left\n",
    "    for num in nums:\n",
    "        if num != 0:\n",
    "            nums[zero_index] = num\n",
    "            zero_index += 1\n",
    "\n",
    "    # Fill the remaining positions with zeroes\n",
    "    while zero_index < len(nums):\n",
    "        nums[zero_index] = 0\n",
    "        zero_index += 1\n",
    "\n",
    "    return nums\n",
    "\n",
    "# Example 1\n",
    "nums = [0, 1, 0, 3, 12]\n",
    "print(moveZeroes(nums))  # Output: [1, 3, 12, 0, 0]\n",
    "\n",
    "# Example 2\n",
    "nums = [0]\n",
    "print(moveZeroes(nums))  # Output: [0]"
   ]
  },
  {
   "cell_type": "code",
   "execution_count": 10,
   "id": "ddca605f-ebf0-4946-987c-0dd9200dba4b",
   "metadata": {},
   "outputs": [
    {
     "name": "stdout",
     "output_type": "stream",
     "text": [
      "0\n",
      "2\n",
      "-1\n"
     ]
    }
   ],
   "source": [
    "def firstUniqChar(s):\n",
    "    char_count = {}\n",
    "\n",
    "    # Count the occurrences of each character\n",
    "    for char in s:\n",
    "        char_count[char] = char_count.get(char, 0) + 1\n",
    "\n",
    "    # Find the index of the first non-repeating character\n",
    "    for i in range(len(s)):\n",
    "        if char_count[s[i]] == 1:\n",
    "            return i\n",
    "\n",
    "    return -1\n",
    "# Example 1\n",
    "s = \"leetcode\"\n",
    "print(firstUniqChar(s))  # Output: 0\n",
    "\n",
    "# Example 2\n",
    "s = \"loveleetcode\"\n",
    "print(firstUniqChar(s))  # Output: 2\n",
    "\n",
    "# Example 3\n",
    "s = \"aabb\"\n",
    "print(firstUniqChar(s))  # Output: -1"
   ]
  },
  {
   "cell_type": "code",
   "execution_count": null,
   "id": "e25c5be4-e485-49d6-99af-389153b03a0a",
   "metadata": {},
   "outputs": [],
   "source": []
  }
 ],
 "metadata": {
  "kernelspec": {
   "display_name": "Python 3 (ipykernel)",
   "language": "python",
   "name": "python3"
  },
  "language_info": {
   "codemirror_mode": {
    "name": "ipython",
    "version": 3
   },
   "file_extension": ".py",
   "mimetype": "text/x-python",
   "name": "python",
   "nbconvert_exporter": "python",
   "pygments_lexer": "ipython3",
   "version": "3.10.8"
  }
 },
 "nbformat": 4,
 "nbformat_minor": 5
}
